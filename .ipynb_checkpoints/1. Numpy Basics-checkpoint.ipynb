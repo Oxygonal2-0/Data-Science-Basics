{
 "cells": [
  {
   "cell_type": "markdown",
   "id": "4d537856",
   "metadata": {},
   "source": [
    "\n",
    "# Numpy - for mathematical operations"
   ]
  },
  {
   "cell_type": "code",
   "execution_count": 2,
   "id": "bcde5a79",
   "metadata": {},
   "outputs": [],
   "source": [
    "import  numpy as np"
   ]
  },
  {
   "cell_type": "code",
   "execution_count": 3,
   "id": "0f5415d5",
   "metadata": {},
   "outputs": [
    {
     "name": "stdout",
     "output_type": "stream",
     "text": [
      "[1 2 3 4 5]\n",
      "<class 'numpy.ndarray'>\n",
      "(5,)\n"
     ]
    }
   ],
   "source": [
    "a = np.array([1, 2, 3, 4, 5])\n",
    "print(a)\n",
    "print(type(a))\n",
    "\n",
    "print(a.shape)"
   ]
  },
  {
   "cell_type": "code",
   "execution_count": 4,
   "id": "d0c05f75",
   "metadata": {},
   "outputs": [],
   "source": [
    "b = np.array([[1], [2], [3], [4], [5]])"
   ]
  },
  {
   "cell_type": "code",
   "execution_count": 5,
   "id": "7ab3d6d5",
   "metadata": {},
   "outputs": [
    {
     "name": "stdout",
     "output_type": "stream",
     "text": [
      "[[1]\n",
      " [2]\n",
      " [3]\n",
      " [4]\n",
      " [5]]\n"
     ]
    }
   ],
   "source": [
    "print(b)"
   ]
  },
  {
   "cell_type": "code",
   "execution_count": 6,
   "id": "40e41c94",
   "metadata": {},
   "outputs": [
    {
     "name": "stdout",
     "output_type": "stream",
     "text": [
      "(5, 1)\n"
     ]
    }
   ],
   "source": [
    "print(b.shape)"
   ]
  },
  {
   "cell_type": "code",
   "execution_count": 9,
   "id": "90ba7aa8",
   "metadata": {},
   "outputs": [
    {
     "name": "stdout",
     "output_type": "stream",
     "text": [
      "[[1 2 3]\n",
      " [4 5 6]]\n",
      "(2, 3)\n",
      "5\n"
     ]
    }
   ],
   "source": [
    "c = np.array([[1,2,3],[4,5,6]])\n",
    "print(c)\n",
    "print(c.shape)\n",
    "print(c[1][1])"
   ]
  },
  {
   "cell_type": "code",
   "execution_count": 11,
   "id": "db7ee507",
   "metadata": {},
   "outputs": [
    {
     "name": "stdout",
     "output_type": "stream",
     "text": [
      "[[0. 0. 0.]\n",
      " [0. 0. 0.]\n",
      " [0. 0. 0.]]\n",
      "[[1. 1. 1.]\n",
      " [1. 1. 1.]\n",
      " [1. 1. 1.]]\n",
      "[[5 5]\n",
      " [5 5]\n",
      " [5 5]]\n",
      "[[1. 0. 0. 0.]\n",
      " [0. 1. 0. 0.]\n",
      " [0. 0. 1. 0.]\n",
      " [0. 0. 0. 1.]]\n",
      "[[0.43376536 0.1535896  0.83333474]\n",
      " [0.30769875 0.17013717 0.0708511 ]]\n"
     ]
    }
   ],
   "source": [
    "# create zeros, Ones and custom array\n",
    "\n",
    "a= np.zeros((3,3))\n",
    "print(a)\n",
    "\n",
    "b= np.ones((3,3))\n",
    "print(b)\n",
    "\n",
    "# Array with constant values\n",
    "c= np.full((3,2), 5)\n",
    "print(c)\n",
    "\n",
    "# Identity Matrix\n",
    "d = np.eye(4)\n",
    "print(d)\n",
    "\n",
    "# randow matrix\n",
    "e = np.random.random((2,3))\n",
    "print(e)"
   ]
  },
  {
   "cell_type": "code",
   "execution_count": 13,
   "id": "e0667203",
   "metadata": {},
   "outputs": [
    {
     "name": "stdout",
     "output_type": "stream",
     "text": [
      "[0.1535896  0.17013717]\n",
      "[[0.1535896 ]\n",
      " [0.17013717]]\n"
     ]
    }
   ],
   "source": [
    "# Slicing\n",
    "\n",
    "print(e[ : , 1])\n",
    "print(e[ : , 1:2])"
   ]
  },
  {
   "cell_type": "code",
   "execution_count": 26,
   "id": "8764a6db",
   "metadata": {},
   "outputs": [
    {
     "name": "stdout",
     "output_type": "stream",
     "text": [
      "[[0 0 0]\n",
      " [0 0 0]\n",
      " [0 0 0]]\n",
      "[[0 0 7]\n",
      " [5 5 7]\n",
      " [0 0 7]]\n"
     ]
    }
   ],
   "source": [
    "# Set some rows and columns with any values\n",
    "\n",
    "z = np.zeros((3, 3), dtype = np.int64)\n",
    "print(z)\n",
    "\n",
    "z[1, : ] = 5\n",
    "z[: , -1 ] = 7\n",
    "print(z)"
   ]
  },
  {
   "cell_type": "code",
   "execution_count": 27,
   "id": "b506e3f5",
   "metadata": {},
   "outputs": [
    {
     "name": "stdout",
     "output_type": "stream",
     "text": [
      "int64\n"
     ]
    }
   ],
   "source": [
    "# Data types \n",
    "\n",
    "print(z.dtype)"
   ]
  },
  {
   "cell_type": "code",
   "execution_count": 35,
   "id": "7b6aa63a",
   "metadata": {},
   "outputs": [
    {
     "name": "stdout",
     "output_type": "stream",
     "text": [
      "[[ 6  8]\n",
      " [10 12]]\n",
      "[[ 6  8]\n",
      " [10 12]]\n",
      "[[-4 -4]\n",
      " [-4 -4]]\n",
      "[[-4 -4]\n",
      " [-4 -4]]\n",
      "[[ 5 12]\n",
      " [21 32]]\n",
      "[[ 5 12]\n",
      " [21 32]]\n",
      "[[0.2        0.33333333]\n",
      " [0.42857143 0.5       ]]\n",
      "[[0.2        0.33333333]\n",
      " [0.42857143 0.5       ]]\n",
      "[[1.         1.41421356]\n",
      " [1.73205081 2.        ]]\n"
     ]
    }
   ],
   "source": [
    "# Mathematical Operations\n",
    "\n",
    "x = np.array([[1, 2], [3, 4]])\n",
    "y = np.array([[5, 6], [7, 8]])\n",
    "\n",
    "print(x + y)\n",
    "print(np.add(x,y))\n",
    "\n",
    "print(x - y)\n",
    "print(np.subtract(x,y))\n",
    "\n",
    "print(x * y)\n",
    "print(np.multiply(x,y))\n",
    "\n",
    "print(x / y)\n",
    "print(np.divide(x,y))\n",
    "\n",
    "print(np.sqrt(x))"
   ]
  },
  {
   "cell_type": "code",
   "execution_count": 36,
   "id": "d8d21086",
   "metadata": {},
   "outputs": [
    {
     "name": "stdout",
     "output_type": "stream",
     "text": [
      "[[1 2]\n",
      " [3 4]]\n",
      "[[5 6]\n",
      " [7 8]]\n",
      "[[19 22]\n",
      " [43 50]]\n",
      "[[19 22]\n",
      " [43 50]]\n"
     ]
    }
   ],
   "source": [
    "# Matrix Multiplication / Dot product\n",
    "\n",
    "print(x)\n",
    "print(y)\n",
    "\n",
    "print(x.dot(y))\n",
    "print(np.dot(x, y))"
   ]
  },
  {
   "cell_type": "code",
   "execution_count": 54,
   "id": "b35f72c1",
   "metadata": {},
   "outputs": [
    {
     "name": "stdout",
     "output_type": "stream",
     "text": [
      "55\n"
     ]
    }
   ],
   "source": [
    "# Multiplication of vectors\n",
    "\n",
    "a = np.array([1, 2, 3, 4, 5])\n",
    "b = np.array([1, 2, 3, 4, 5])\n",
    "\n",
    "print(a.dot(b))"
   ]
  },
  {
   "cell_type": "code",
   "execution_count": 55,
   "id": "8312d48b",
   "metadata": {},
   "outputs": [
    {
     "name": "stdout",
     "output_type": "stream",
     "text": [
      "15\n",
      "15\n",
      "[4 6]\n"
     ]
    }
   ],
   "source": [
    "print(sum(a))\n",
    "print(np.sum(a))\n",
    "print(np.sum(x, axis = 0))"
   ]
  },
  {
   "cell_type": "code",
   "execution_count": 56,
   "id": "27d99bbe",
   "metadata": {},
   "outputs": [
    {
     "name": "stdout",
     "output_type": "stream",
     "text": [
      "[1 2 3 4 5]\n",
      "[ 1  4  9 16 25]\n"
     ]
    }
   ],
   "source": [
    "# Stacking of array\n",
    "print(a)\n",
    "\n",
    "b = b**2\n",
    "print(b)\n",
    "\n",
    "a = np.stack((a,b), axis = 0)"
   ]
  },
  {
   "cell_type": "code",
   "execution_count": 59,
   "id": "43d441da",
   "metadata": {
    "scrolled": true
   },
   "outputs": [
    {
     "name": "stdout",
     "output_type": "stream",
     "text": [
      "(5, 2)\n",
      "[[ 1  2]\n",
      " [ 3  4]\n",
      " [ 5  1]\n",
      " [ 4  9]\n",
      " [16 25]]\n"
     ]
    }
   ],
   "source": [
    "# Reshape a numpy array\n",
    "print(a.shape)\n",
    "\n",
    "a = a.reshape((5, 2))\n",
    "a = a.reshape((-1, 2))  \n",
    "# If you don't know, what are the number of rows or columns then replace it -1.\n",
    "\n",
    "print(a)"
   ]
  },
  {
   "cell_type": "markdown",
   "id": "eca7a2be",
   "metadata": {},
   "source": [
    "\n",
    "# Numpy Random Module"
   ]
  },
  {
   "cell_type": "code",
   "execution_count": 61,
   "id": "2fc26410",
   "metadata": {},
   "outputs": [
    {
     "name": "stdout",
     "output_type": "stream",
     "text": [
      "[ 5  6  7  8  9 10 11 12 13 14]\n"
     ]
    }
   ],
   "source": [
    "a = np.arange(10) + 5\n",
    "\n",
    "print(a)"
   ]
  },
  {
   "cell_type": "code",
   "execution_count": 63,
   "id": "8e71bd94",
   "metadata": {},
   "outputs": [
    {
     "name": "stdout",
     "output_type": "stream",
     "text": [
      "[ 5 13  8 14  7  6 10 12 11  9]\n"
     ]
    }
   ],
   "source": [
    "np.random.shuffle(a)\n",
    "print(a)"
   ]
  },
  {
   "cell_type": "code",
   "execution_count": 68,
   "id": "dcc4ce4c",
   "metadata": {},
   "outputs": [
    {
     "name": "stdout",
     "output_type": "stream",
     "text": [
      "8\n",
      "[8 9 7]\n"
     ]
    }
   ],
   "source": [
    "a = np.random.rand(2, 3)\n",
    "\n",
    "# Returns values from a standard Normal Distributions\n",
    "a = np.random.randn(2, 3)\n",
    "\n",
    "# Return 3 random numbers from the range from 5 to 10\n",
    "a = np.random.randint(5, 10, 3)\n",
    "\n",
    "# Randomly pick one element from a array\n",
    "element = np.random.choice(a)\n",
    "print(element)\n",
    "\n",
    "# You want same random numbers, stores the state of random numbers\n",
    "np.random.seed(1)\n",
    "\n",
    "print(a)"
   ]
  },
  {
   "cell_type": "markdown",
   "id": "a9f09656",
   "metadata": {},
   "source": [
    "\n",
    "# Some more Numpy Functions - Statistics "
   ]
  },
  {
   "cell_type": "code",
   "execution_count": 74,
   "id": "a0f2b596",
   "metadata": {},
   "outputs": [
    {
     "name": "stdout",
     "output_type": "stream",
     "text": [
      "[[1 2 3 4]\n",
      " [7 6 2 0]]\n",
      "0\n",
      "[1 2 2 0]\n",
      "3.0\n",
      "3.0\n",
      "3.125\n",
      "[4.  4.  2.5 2. ]\n",
      "[2.5  3.75]\n",
      "3.0\n"
     ]
    }
   ],
   "source": [
    "a = np.array([[1, 2, 3, 4], [7, 6, 2, 0]])\n",
    "print(a)\n",
    "print(np.min(a))\n",
    "print(np.min(a, axis = 0))\n",
    "\n",
    "# Mean, Average of all the elements\n",
    "b = np.array([1,2,3,4,5])\n",
    "\n",
    "m = sum(b)/5\n",
    "print(m)\n",
    "\n",
    "print(np.mean(b))\n",
    "print(np.mean(a))\n",
    "print(np.mean(a, axis = 0))\n",
    "print(np.mean(a, axis = 1))\n",
    "\n",
    "print(np.median(b))\n",
    "\n"
   ]
  },
  {
   "cell_type": "code",
   "execution_count": 77,
   "id": "3114b77d",
   "metadata": {},
   "outputs": [
    {
     "name": "stdout",
     "output_type": "stream",
     "text": [
      "2.4\n",
      "2.066666666666667\n"
     ]
    }
   ],
   "source": [
    "# Mean vs Average is weight\n",
    "\n",
    "c = np.array([1, 5, 4, 2, 0])\n",
    "w = np.array([1, 2, 3, 4, 5])\n",
    "print(np.mean(c))\n",
    "print(np.average(c, weights = w))"
   ]
  },
  {
   "cell_type": "code",
   "execution_count": 80,
   "id": "36e77613",
   "metadata": {},
   "outputs": [
    {
     "name": "stdout",
     "output_type": "stream",
     "text": [
      "1.854723699099141\n",
      "1.854723699099141\n",
      "3.4400000000000004\n"
     ]
    }
   ],
   "source": [
    "# Standard Deviation\n",
    "u = np.mean(c)\n",
    "myStd = np.sqrt(np.mean(abs(c-u)**2))\n",
    "\n",
    "print(myStd)\n",
    "print(np.std(c))\n",
    "print(np.var(c))"
   ]
  },
  {
   "cell_type": "code",
   "execution_count": null,
   "id": "2d362c1a",
   "metadata": {},
   "outputs": [],
   "source": []
  }
 ],
 "metadata": {
  "kernelspec": {
   "display_name": "Python 3 (ipykernel)",
   "language": "python",
   "name": "python3"
  },
  "language_info": {
   "codemirror_mode": {
    "name": "ipython",
    "version": 3
   },
   "file_extension": ".py",
   "mimetype": "text/x-python",
   "name": "python",
   "nbconvert_exporter": "python",
   "pygments_lexer": "ipython3",
   "version": "3.10.0"
  }
 },
 "nbformat": 4,
 "nbformat_minor": 5
}
