{
 "cells": [
  {
   "cell_type": "markdown",
   "id": "914db0eb",
   "metadata": {},
   "source": [
    "# Scalers & Vectors"
   ]
  },
  {
   "cell_type": "code",
   "execution_count": 1,
   "id": "3f9b23fa",
   "metadata": {},
   "outputs": [
    {
     "data": {
      "text/plain": [
       "'\\nScaler is single number, denoted as x\\nVector is array of scalers, and always a column vector\\n'"
      ]
     },
     "execution_count": 1,
     "metadata": {},
     "output_type": "execute_result"
    }
   ],
   "source": [
    "'''\n",
    "Scaler is single number, denoted as x\n",
    "Vector is array of scalers, and always a column vector\n",
    "'''"
   ]
  },
  {
   "cell_type": "code",
   "execution_count": 3,
   "id": "fe695539",
   "metadata": {},
   "outputs": [
    {
     "name": "stdout",
     "output_type": "stream",
     "text": [
      "[[4]\n",
      " [5]\n",
      " [3]]\n",
      "(3, 1)\n"
     ]
    }
   ],
   "source": [
    "import numpy as np\n",
    "\n",
    "x= np.array([[4], [5], [3]])\n",
    "print(x)\n",
    "print(x.shape)"
   ]
  },
  {
   "cell_type": "markdown",
   "id": "126f0eb7",
   "metadata": {},
   "source": [
    "# Matrix and Tensor"
   ]
  },
  {
   "cell_type": "code",
   "execution_count": 4,
   "id": "68deb364",
   "metadata": {},
   "outputs": [],
   "source": [
    "# Tensor means a array with more than 2 axes"
   ]
  },
  {
   "cell_type": "code",
   "execution_count": 8,
   "id": "10674c99",
   "metadata": {},
   "outputs": [],
   "source": [
    "x = np.array([[4,5,7, 8], \n",
    "              [10,11,13, 15], \n",
    "              [56,80,90, 99]])"
   ]
  },
  {
   "cell_type": "code",
   "execution_count": 9,
   "id": "553713c7",
   "metadata": {},
   "outputs": [
    {
     "name": "stdout",
     "output_type": "stream",
     "text": [
      "(3, 4)\n"
     ]
    }
   ],
   "source": [
    "print(x.shape)"
   ]
  },
  {
   "cell_type": "code",
   "execution_count": 15,
   "id": "a83b183b",
   "metadata": {},
   "outputs": [
    {
     "name": "stdout",
     "output_type": "stream",
     "text": [
      "[[ 4]\n",
      " [ 5]\n",
      " [ 7]\n",
      " [ 8]\n",
      " [10]\n",
      " [11]\n",
      " [13]\n",
      " [15]\n",
      " [56]\n",
      " [80]\n",
      " [90]\n",
      " [99]]\n",
      "[[ 4  5  7  8 10 11 13 15 56 80 90 99]]\n"
     ]
    }
   ],
   "source": [
    "# Transpose\n",
    "x = x.reshape(12, -1)\n",
    "print(x) \n",
    "# x1 = x.T   # Transpose\n",
    "x1 = np.transpose(x)\n",
    "print(x1)"
   ]
  },
  {
   "cell_type": "code",
   "execution_count": 11,
   "id": "31789484",
   "metadata": {},
   "outputs": [
    {
     "name": "stdout",
     "output_type": "stream",
     "text": [
      "[[ 4]\n",
      " [ 5]\n",
      " [ 7]\n",
      " [ 8]\n",
      " [10]\n",
      " [11]\n",
      " [13]\n",
      " [15]\n",
      " [56]\n",
      " [80]\n",
      " [90]\n",
      " [99]]\n"
     ]
    }
   ],
   "source": [
    "# Transpose of Tensor\n",
    "# Don't Run this cell\n",
    "x1 = np.transpose(T, axes=(2, 0, 1))  # In axes, just write the permutations as you want"
   ]
  },
  {
   "cell_type": "code",
   "execution_count": 16,
   "id": "438aedd2",
   "metadata": {},
   "outputs": [
    {
     "name": "stdout",
     "output_type": "stream",
     "text": [
      "[1 2 3 4]\n",
      "[5 6 7 8]\n"
     ]
    }
   ],
   "source": [
    "# Broadcasting\n",
    "# you can add a scaler to vector\n",
    "x = np.array([1, 2, 3, 4])\n",
    "print(x)\n",
    "print(x + 4)"
   ]
  },
  {
   "cell_type": "code",
   "execution_count": 18,
   "id": "10f96261",
   "metadata": {},
   "outputs": [
    {
     "name": "stdout",
     "output_type": "stream",
     "text": [
      "[[10 20 30 40]\n",
      " [40 50 60 70]]\n",
      "[[11 22 33 44]\n",
      " [41 52 63 74]]\n"
     ]
    }
   ],
   "source": [
    "X = np.array([[10, 20, 30, 40],\n",
    "             [40, 50, 60,70]])\n",
    "print(X)\n",
    "print(X + x)"
   ]
  },
  {
   "cell_type": "code",
   "execution_count": 21,
   "id": "4c502125",
   "metadata": {},
   "outputs": [
    {
     "name": "stdout",
     "output_type": "stream",
     "text": [
      "[[ 1  4]\n",
      " [ 9 16]]\n"
     ]
    },
    {
     "data": {
      "text/plain": [
       "array([[ 7, 10],\n",
       "       [15, 22]])"
      ]
     },
     "execution_count": 21,
     "metadata": {},
     "output_type": "execute_result"
    }
   ],
   "source": [
    "# ELement Wise Multiplication - Hadamard product\n",
    "A = np.array([[1,2], [3,4]])\n",
    "B = np.array([[1,2], [3,4]])\n",
    "print(A*B)\n",
    "\n",
    "# Matrix Multiplication -> DOT product\n",
    "np.dot(A,B)"
   ]
  },
  {
   "cell_type": "code",
   "execution_count": 26,
   "id": "e9055aef",
   "metadata": {},
   "outputs": [
    {
     "name": "stdout",
     "output_type": "stream",
     "text": [
      "5.0\n",
      "7.0\n",
      "4.0\n"
     ]
    }
   ],
   "source": [
    "# Norms\n",
    "x = np.array([3,4])\n",
    "lp2 = np.linalg.norm(x)\n",
    "print(lp2)\n",
    "\n",
    "# 1st Norm\n",
    "lp1 = np.linalg.norm(x, ord=1)\n",
    "print(lp1)\n",
    "\n",
    "# infinity Norm or Maximium norm\n",
    "lp1 = np.linalg.norm(x, ord=np.inf)\n",
    "print(lp1)"
   ]
  },
  {
   "cell_type": "code",
   "execution_count": 28,
   "id": "6b123862",
   "metadata": {},
   "outputs": [
    {
     "data": {
      "text/plain": [
       "-2.0000000000000004"
      ]
     },
     "execution_count": 28,
     "metadata": {},
     "output_type": "execute_result"
    }
   ],
   "source": [
    "# Determinant\n",
    "A = np.array([[1,2],\n",
    "              [3,4]])\n",
    "\n",
    "np.linalg.det(A)"
   ]
  },
  {
   "cell_type": "code",
   "execution_count": 32,
   "id": "8eba397a",
   "metadata": {},
   "outputs": [
    {
     "data": {
      "text/plain": [
       "array([[-2. ,  1. ],\n",
       "       [ 1.5, -0.5]])"
      ]
     },
     "execution_count": 32,
     "metadata": {},
     "output_type": "execute_result"
    }
   ],
   "source": [
    "# Inverse\n",
    "np.linalg.inv(A)\n",
    "\n",
    "# Pseudo Inverse \n",
    "# If matrix is invertible, then you can use it. Determinant is zero\n",
    "np.linalg.pinv(A)"
   ]
  },
  {
   "cell_type": "code",
   "execution_count": 34,
   "id": "a4dbb4fe",
   "metadata": {},
   "outputs": [
    {
     "data": {
      "text/plain": [
       "array([1., 2.])"
      ]
     },
     "execution_count": 34,
     "metadata": {},
     "output_type": "execute_result"
    }
   ],
   "source": [
    "# System of equations\n",
    "a = np.array([[2,3], [3,1]])\n",
    "b = np.array([8, 5])\n",
    "np.linalg.solve(a,b)"
   ]
  },
  {
   "cell_type": "code",
   "execution_count": null,
   "id": "022ea220",
   "metadata": {},
   "outputs": [],
   "source": []
  }
 ],
 "metadata": {
  "kernelspec": {
   "display_name": "Python 3 (ipykernel)",
   "language": "python",
   "name": "python3"
  },
  "language_info": {
   "codemirror_mode": {
    "name": "ipython",
    "version": 3
   },
   "file_extension": ".py",
   "mimetype": "text/x-python",
   "name": "python",
   "nbconvert_exporter": "python",
   "pygments_lexer": "ipython3",
   "version": "3.10.0"
  }
 },
 "nbformat": 4,
 "nbformat_minor": 5
}
